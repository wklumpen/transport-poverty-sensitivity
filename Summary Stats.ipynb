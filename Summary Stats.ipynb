{
 "cells": [
  {
   "cell_type": "code",
   "execution_count": 1,
   "metadata": {},
   "outputs": [
    {
     "name": "stdout",
     "output_type": "stream",
     "text": [
      "BOS\n",
      "Total Pop: 5.2\n",
      "Total Emp: 2.72\n",
      "Total Ara: 197\n",
      "\n",
      "CHI\n",
      "Total Pop: 8.66\n",
      "Total Emp: 4.03\n",
      "Total Ara: 190\n",
      "\n",
      "LA\n",
      "Total Pop: 12.42\n",
      "Total Emp: 5.81\n",
      "Total Ara: 125\n",
      "\n",
      "NYC\n",
      "Total Pop: 19.44\n",
      "Total Emp: 8.46\n",
      "Total Ara: 293\n",
      "\n",
      "PHL\n",
      "Total Pop: 5.88\n",
      "Total Emp: 2.71\n",
      "Total Ara: 174\n",
      "\n",
      "SFO\n",
      "Total Pop: 5.33\n",
      "Total Emp: 2.79\n",
      "Total Ara: 66\n",
      "\n",
      "WAS\n",
      "Total Pop: 5.13\n",
      "Total Emp: 2.59\n",
      "Total Ara: 105\n",
      "\n"
     ]
    }
   ],
   "source": [
    "import os\n",
    "import pandas as pd \n",
    "import geopandas as gpd\n",
    "\n",
    "REGIONS = [\"BOS\", \"CHI\", \"LA\", \"NYC\", \"PHL\", \"SFO\", \"WAS\"]\n",
    "BASE_FOLDER = \"/home/willem/Documents/Project/TED/data/region/\"\n",
    "\n",
    "for region in REGIONS:\n",
    "    print(region)\n",
    "    demo = pd.read_csv(os.path.join(BASE_FOLDER, region, \"demographics.csv\"))\n",
    "    supply = pd.read_csv(os.path.join(BASE_FOLDER, region, \"supply\", \"supply.csv\"))\n",
    "    bgs = gpd.read_file(os.path.join(BASE_FOLDER, region, f\"{region}.gpkg\"), layer=\"bg_areas\")#.to_crs(epsg=3857)\n",
    "    \n",
    "    print(\"Total Pop:\", round(demo[\"B03002_001E\"].sum()/1000000, 2))\n",
    "    print(\"Total Emp:\", round(supply[\"C000\"].sum()/1000000, 2))\n",
    "    print(\"Total Ara:\", round(bgs.area.sum()/38610200))\n",
    "    print()\n",
    "\n"
   ]
  }
 ],
 "metadata": {
  "kernelspec": {
   "display_name": "tp-sensitivity",
   "language": "python",
   "name": "python3"
  },
  "language_info": {
   "codemirror_mode": {
    "name": "ipython",
    "version": 3
   },
   "file_extension": ".py",
   "mimetype": "text/x-python",
   "name": "python",
   "nbconvert_exporter": "python",
   "pygments_lexer": "ipython3",
   "version": "3.11.9"
  }
 },
 "nbformat": 4,
 "nbformat_minor": 2
}
